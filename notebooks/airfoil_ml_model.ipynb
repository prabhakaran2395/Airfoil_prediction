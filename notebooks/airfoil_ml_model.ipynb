{
 "cells": [
  {
   "cell_type": "code",
   "execution_count": 61,
   "metadata": {},
   "outputs": [],
   "source": [
    "from sklearn.preprocessing import StandardScaler\n",
    "from sklearn.pipeline import Pipeline\n",
    "from sklearn.ensemble import RandomForestRegressor\n",
    "from sklearn.multioutput import MultiOutputRegressor\n",
    "from sklearn.svm import SVR\n",
    "from xgboost import XGBRegressor\n",
    "from sklearn.metrics import mean_absolute_error\n",
    "import pandas as pd\n",
    "import numpy as np\n",
    "import pickle"
   ]
  },
  {
   "cell_type": "code",
   "execution_count": 2,
   "metadata": {},
   "outputs": [],
   "source": [
    "training_set = pd.read_csv('..\\\\processed_data\\\\training_set.csv')\n",
    "testing_set = pd.read_csv('..\\\\processed_data\\\\testing_set.csv')"
   ]
  },
  {
   "cell_type": "code",
   "execution_count": 3,
   "metadata": {},
   "outputs": [],
   "source": [
    "X_train = training_set.drop(['CL', 'CD'], axis=1)\n",
    "y_train = training_set[['CL', 'CD']]\n",
    "\n",
    "X_test = testing_set.drop(['CL', 'CD'], axis=1)\n",
    "y_test = testing_set[['CL', 'CD']]"
   ]
  },
  {
   "cell_type": "markdown",
   "metadata": {},
   "source": [
    "# ---------------------RFR---------------------"
   ]
  },
  {
   "cell_type": "code",
   "execution_count": 11,
   "metadata": {},
   "outputs": [],
   "source": [
    "rfr_pipe = Pipeline(steps=[\n",
    "    ('scaler', StandardScaler()),\n",
    "    ('rfr', RandomForestRegressor(random_state=42,n_estimators = 100, min_samples_leaf = 1, min_samples_split = 2))\n",
    "])"
   ]
  },
  {
   "cell_type": "code",
   "execution_count": 12,
   "metadata": {},
   "outputs": [
    {
     "data": {
      "text/plain": [
       "Pipeline(steps=[('scaler', StandardScaler()),\n",
       "                ('rfr', RandomForestRegressor(random_state=42))])"
      ]
     },
     "execution_count": 12,
     "metadata": {},
     "output_type": "execute_result"
    }
   ],
   "source": [
    "rfr_pipe.fit(X_train, y_train)"
   ]
  },
  {
   "cell_type": "code",
   "execution_count": 13,
   "metadata": {},
   "outputs": [
    {
     "data": {
      "text/plain": [
       "0.004470728372162766"
      ]
     },
     "execution_count": 13,
     "metadata": {},
     "output_type": "execute_result"
    }
   ],
   "source": [
    "preds_rfr = rfr_pipe.predict(X_test)\n",
    "rfr_train = rfr_pipe.predict(X_train)\n",
    "\n",
    "mean_absolute_error(y_train, rfr_train)"
   ]
  },
  {
   "cell_type": "code",
   "execution_count": 14,
   "metadata": {},
   "outputs": [
    {
     "name": "stdout",
     "output_type": "stream",
     "text": [
      "RandomForestRegressor: MAE\n",
      "-----------------------------------\n",
      "cl_error :  0.02099930206112297\n",
      "cd_error :  0.0023511970149253736\n",
      "total_error :  0.011675249538024166\n",
      "total_error_train_set  :  0.004470728372162766\n",
      "-----------------------------------\n"
     ]
    }
   ],
   "source": [
    "print('RandomForestRegressor: MAE')\n",
    "print('-----------------------------------')\n",
    "\n",
    "print('cl_error : ',mean_absolute_error(y_test['CL'], preds_rfr[:,0]))\n",
    "print('cd_error : ',mean_absolute_error(y_test['CD'], preds_rfr[:,1]))\n",
    "print('total_error : ',mean_absolute_error(y_test, preds_rfr))\n",
    "print('total_error_train_set  : ',mean_absolute_error(y_train, rfr_train))\n",
    "print('-----------------------------------')\n"
   ]
  },
  {
   "cell_type": "markdown",
   "metadata": {},
   "source": [
    "# ---------------------SVR---------------------"
   ]
  },
  {
   "cell_type": "code",
   "execution_count": 10,
   "metadata": {},
   "outputs": [
    {
     "data": {
      "text/plain": [
       "{'memory': None,\n",
       " 'steps': [('scaler', StandardScaler()),\n",
       "  ('rfr', RandomForestRegressor(random_state=42))],\n",
       " 'verbose': False,\n",
       " 'scaler': StandardScaler(),\n",
       " 'rfr': RandomForestRegressor(random_state=42),\n",
       " 'scaler__copy': True,\n",
       " 'scaler__with_mean': True,\n",
       " 'scaler__with_std': True,\n",
       " 'rfr__bootstrap': True,\n",
       " 'rfr__ccp_alpha': 0.0,\n",
       " 'rfr__criterion': 'mse',\n",
       " 'rfr__max_depth': None,\n",
       " 'rfr__max_features': 'auto',\n",
       " 'rfr__max_leaf_nodes': None,\n",
       " 'rfr__max_samples': None,\n",
       " 'rfr__min_impurity_decrease': 0.0,\n",
       " 'rfr__min_impurity_split': None,\n",
       " 'rfr__min_samples_leaf': 1,\n",
       " 'rfr__min_samples_split': 2,\n",
       " 'rfr__min_weight_fraction_leaf': 0.0,\n",
       " 'rfr__n_estimators': 100,\n",
       " 'rfr__n_jobs': None,\n",
       " 'rfr__oob_score': False,\n",
       " 'rfr__random_state': 42,\n",
       " 'rfr__verbose': 0,\n",
       " 'rfr__warm_start': False}"
      ]
     },
     "execution_count": 10,
     "metadata": {},
     "output_type": "execute_result"
    }
   ],
   "source": [
    "rfr_pipe.get_params()"
   ]
  },
  {
   "cell_type": "code",
   "execution_count": 15,
   "metadata": {},
   "outputs": [],
   "source": [
    "svr = SVR()\n",
    "\n",
    "svr_pipe = Pipeline(steps = [\n",
    "    ('scaler', StandardScaler()),\n",
    "    ('multi_svr', MultiOutputRegressor(svr))\n",
    "])"
   ]
  },
  {
   "cell_type": "code",
   "execution_count": 16,
   "metadata": {},
   "outputs": [
    {
     "data": {
      "text/plain": [
       "Pipeline(steps=[('scaler', StandardScaler()),\n",
       "                ('multi_svr', MultiOutputRegressor(estimator=SVR()))])"
      ]
     },
     "execution_count": 16,
     "metadata": {},
     "output_type": "execute_result"
    }
   ],
   "source": [
    "svr_pipe.fit(X_train, y_train)"
   ]
  },
  {
   "cell_type": "code",
   "execution_count": 17,
   "metadata": {},
   "outputs": [
    {
     "name": "stdout",
     "output_type": "stream",
     "text": [
      "SVR: MAE\n",
      "-----------------------------------\n",
      "cl_error :  0.07729499031815579\n",
      "cd_error :  0.0677465813788202\n",
      "total_error :  0.07252078584848799\n",
      "total_error_train_set  :  0.07236635858761802\n",
      "-----------------------------------\n"
     ]
    }
   ],
   "source": [
    "preds_svr = svr_pipe.predict(X_test)\n",
    "\n",
    "print('SVR: MAE')\n",
    "print('-----------------------------------')\n",
    "\n",
    "print('cl_error : ',mean_absolute_error(y_test['CL'], preds_svr[:,0]))\n",
    "print('cd_error : ',mean_absolute_error(y_test['CD'], preds_svr[:,1]))\n",
    "print('total_error : ',mean_absolute_error(y_test, preds_svr))\n",
    "print('total_error_train_set  : ',mean_absolute_error(y_train, svr_pipe.predict(X_train)))\n",
    "print('-----------------------------------')\n"
   ]
  },
  {
   "cell_type": "markdown",
   "metadata": {},
   "source": [
    "# ---------------------XGB---------------------"
   ]
  },
  {
   "cell_type": "code",
   "execution_count": 58,
   "metadata": {},
   "outputs": [],
   "source": [
    "xgb_def = XGBRegressor()\n",
    "\n",
    "xgb_pipe_def = Pipeline([\n",
    "    ('scaler', StandardScaler()),\n",
    "    ('multi_xgb', MultiOutputRegressor(xgb_def))\n",
    "]\n",
    ")"
   ]
  },
  {
   "cell_type": "code",
   "execution_count": 59,
   "metadata": {},
   "outputs": [
    {
     "data": {
      "text/plain": [
       "Pipeline(steps=[('scaler', StandardScaler()),\n",
       "                ('multi_xgb',\n",
       "                 MultiOutputRegressor(estimator=XGBRegressor(base_score=None,\n",
       "                                                             booster=None,\n",
       "                                                             colsample_bylevel=None,\n",
       "                                                             colsample_bynode=None,\n",
       "                                                             colsample_bytree=None,\n",
       "                                                             enable_categorical=False,\n",
       "                                                             gamma=None,\n",
       "                                                             gpu_id=None,\n",
       "                                                             importance_type=None,\n",
       "                                                             interaction_constraints=None,\n",
       "                                                             learning_rate=None,\n",
       "                                                             max_delta_step=None,\n",
       "                                                             max_depth=None,\n",
       "                                                             min_child_weight=None,\n",
       "                                                             missing=nan,\n",
       "                                                             monotone_constraints=None,\n",
       "                                                             n_estimators=100,\n",
       "                                                             n_jobs=None,\n",
       "                                                             num_parallel_tree=None,\n",
       "                                                             predictor=None,\n",
       "                                                             random_state=None,\n",
       "                                                             reg_alpha=None,\n",
       "                                                             reg_lambda=None,\n",
       "                                                             scale_pos_weight=None,\n",
       "                                                             subsample=None,\n",
       "                                                             tree_method=None,\n",
       "                                                             validate_parameters=None,\n",
       "                                                             verbosity=None)))])"
      ]
     },
     "execution_count": 59,
     "metadata": {},
     "output_type": "execute_result"
    }
   ],
   "source": [
    "xgb_pipe_def.fit(X_train, y_train)"
   ]
  },
  {
   "cell_type": "code",
   "execution_count": 60,
   "metadata": {},
   "outputs": [
    {
     "name": "stdout",
     "output_type": "stream",
     "text": [
      "XGB: MAE\n",
      "-----------------------------------\n",
      "cl_error :  0.030474027508028204\n",
      "cd_error :  0.0022076617634799213\n",
      "total_error :  0.01634084463575406\n",
      "total_error_train_set  :  0.012657796831603611\n",
      "-----------------------------------\n"
     ]
    }
   ],
   "source": [
    "preds_xgb_def = xgb_pipe_def.predict(X_test)\n",
    "\n",
    "print('XGB: MAE')\n",
    "print('-----------------------------------')\n",
    "\n",
    "print('cl_error : ',mean_absolute_error(y_test['CL'], preds_xgb_def[:,0]))\n",
    "print('cd_error : ',mean_absolute_error(y_test['CD'], preds_xgb_def[:,1]))\n",
    "print('total_error : ',mean_absolute_error(y_test, preds_xgb_def))\n",
    "print('total_error_train_set  : ',mean_absolute_error(y_train, xgb_pipe_def.predict(X_train)))\n",
    "print('-----------------------------------')"
   ]
  },
  {
   "cell_type": "markdown",
   "metadata": {},
   "source": [
    "# --------------------NN------------------------"
   ]
  },
  {
   "cell_type": "code",
   "execution_count": 4,
   "metadata": {},
   "outputs": [],
   "source": [
    "from keras.models import Sequential\n",
    "from keras.layers import Dense"
   ]
  },
  {
   "cell_type": "code",
   "execution_count": 12,
   "metadata": {},
   "outputs": [],
   "source": [
    "model = Sequential()\n",
    "model.add(Dense(12, input_dim = 6, activation = 'relu'))\n",
    "model.add(Dense(6, activation = 'relu'))\n",
    "model.add(Dense(6, activation = 'relu'))\n",
    "model.add(Dense(4, activation = 'relu'))\n",
    "model.add(Dense(2))\n",
    "model.compile(loss='mae', optimizer='adam')"
   ]
  },
  {
   "cell_type": "code",
   "execution_count": 13,
   "metadata": {},
   "outputs": [],
   "source": [
    "std = StandardScaler()\n",
    "train_x_np = np.array(X_train)\n",
    "train_x_np = std.fit_transform(train_x_np)\n",
    "\n",
    "train_y_np = np.array(y_train)\n",
    "\n",
    "test_x_np = np.array(X_test)\n",
    "test_x_np = std.fit_transform(test_x_np)\n",
    "\n",
    "test_y_np = np.array(y_test)"
   ]
  },
  {
   "cell_type": "code",
   "execution_count": 14,
   "metadata": {},
   "outputs": [
    {
     "name": "stdout",
     "output_type": "stream",
     "text": [
      "Epoch 1/200\n",
      "313/313 [==============================] - 1s 2ms/step - loss: 0.2852\n",
      "Epoch 2/200\n",
      "313/313 [==============================] - 1s 2ms/step - loss: 0.1585\n",
      "Epoch 3/200\n",
      "313/313 [==============================] - 1s 2ms/step - loss: 0.0818\n",
      "Epoch 4/200\n",
      "313/313 [==============================] - 0s 1ms/step - loss: 0.0636\n",
      "Epoch 5/200\n",
      "313/313 [==============================] - 0s 1ms/step - loss: 0.0578\n",
      "Epoch 6/200\n",
      "313/313 [==============================] - 0s 1ms/step - loss: 0.0548\n",
      "Epoch 7/200\n",
      "313/313 [==============================] - 0s 1ms/step - loss: 0.0533\n",
      "Epoch 8/200\n",
      "313/313 [==============================] - 0s 1ms/step - loss: 0.0516\n",
      "Epoch 9/200\n",
      "313/313 [==============================] - 0s 1ms/step - loss: 0.0507\n",
      "Epoch 10/200\n",
      "313/313 [==============================] - 0s 1ms/step - loss: 0.0503\n",
      "Epoch 11/200\n",
      "313/313 [==============================] - 0s 1ms/step - loss: 0.0494\n",
      "Epoch 12/200\n",
      "313/313 [==============================] - 0s 1ms/step - loss: 0.0492\n",
      "Epoch 13/200\n",
      "313/313 [==============================] - 0s 1ms/step - loss: 0.0481\n",
      "Epoch 14/200\n",
      "313/313 [==============================] - 0s 1ms/step - loss: 0.0480\n",
      "Epoch 15/200\n",
      "313/313 [==============================] - 1s 2ms/step - loss: 0.0474\n",
      "Epoch 16/200\n",
      "313/313 [==============================] - 0s 1ms/step - loss: 0.0471\n",
      "Epoch 17/200\n",
      "313/313 [==============================] - 0s 1ms/step - loss: 0.0464\n",
      "Epoch 18/200\n",
      "313/313 [==============================] - 0s 1ms/step - loss: 0.0461\n",
      "Epoch 19/200\n",
      "313/313 [==============================] - 0s 1ms/step - loss: 0.0460\n",
      "Epoch 20/200\n",
      "313/313 [==============================] - 0s 1ms/step - loss: 0.0459\n",
      "Epoch 21/200\n",
      "313/313 [==============================] - 0s 1ms/step - loss: 0.0453\n",
      "Epoch 22/200\n",
      "313/313 [==============================] - 0s 1ms/step - loss: 0.0451\n",
      "Epoch 23/200\n",
      "313/313 [==============================] - 1s 2ms/step - loss: 0.0452\n",
      "Epoch 24/200\n",
      "313/313 [==============================] - 0s 1ms/step - loss: 0.0450\n",
      "Epoch 25/200\n",
      "313/313 [==============================] - 0s 1ms/step - loss: 0.0447\n",
      "Epoch 26/200\n",
      "313/313 [==============================] - 0s 1ms/step - loss: 0.0445\n",
      "Epoch 27/200\n",
      "313/313 [==============================] - 0s 2ms/step - loss: 0.0442\n",
      "Epoch 28/200\n",
      "313/313 [==============================] - 0s 1ms/step - loss: 0.0441\n",
      "Epoch 29/200\n",
      "313/313 [==============================] - 0s 1ms/step - loss: 0.0440\n",
      "Epoch 30/200\n",
      "313/313 [==============================] - 0s 1ms/step - loss: 0.0443\n",
      "Epoch 31/200\n",
      "313/313 [==============================] - 0s 1ms/step - loss: 0.0439\n",
      "Epoch 32/200\n",
      "313/313 [==============================] - 0s 1ms/step - loss: 0.0435\n",
      "Epoch 33/200\n",
      "313/313 [==============================] - 0s 1ms/step - loss: 0.0438\n",
      "Epoch 34/200\n",
      "313/313 [==============================] - 0s 2ms/step - loss: 0.0435\n",
      "Epoch 35/200\n",
      "313/313 [==============================] - 1s 2ms/step - loss: 0.0435\n",
      "Epoch 36/200\n",
      "313/313 [==============================] - 1s 2ms/step - loss: 0.0435\n",
      "Epoch 37/200\n",
      "313/313 [==============================] - 1s 2ms/step - loss: 0.0434\n",
      "Epoch 38/200\n",
      "313/313 [==============================] - 1s 2ms/step - loss: 0.0429\n",
      "Epoch 39/200\n",
      "313/313 [==============================] - 0s 1ms/step - loss: 0.0428\n",
      "Epoch 40/200\n",
      "313/313 [==============================] - 0s 1ms/step - loss: 0.0428\n",
      "Epoch 41/200\n",
      "313/313 [==============================] - 0s 1ms/step - loss: 0.0423\n",
      "Epoch 42/200\n",
      "313/313 [==============================] - 0s 1ms/step - loss: 0.0419\n",
      "Epoch 43/200\n",
      "313/313 [==============================] - 0s 2ms/step - loss: 0.0421\n",
      "Epoch 44/200\n",
      "313/313 [==============================] - 0s 1ms/step - loss: 0.0416\n",
      "Epoch 45/200\n",
      "313/313 [==============================] - 0s 1ms/step - loss: 0.0415\n",
      "Epoch 46/200\n",
      "313/313 [==============================] - 0s 1ms/step - loss: 0.0411\n",
      "Epoch 47/200\n",
      "313/313 [==============================] - 0s 1ms/step - loss: 0.0407\n",
      "Epoch 48/200\n",
      "313/313 [==============================] - 0s 1ms/step - loss: 0.0406\n",
      "Epoch 49/200\n",
      "313/313 [==============================] - 1s 2ms/step - loss: 0.0407\n",
      "Epoch 50/200\n",
      "313/313 [==============================] - 1s 2ms/step - loss: 0.0401\n",
      "Epoch 51/200\n",
      "313/313 [==============================] - 0s 1ms/step - loss: 0.0397\n",
      "Epoch 52/200\n",
      "313/313 [==============================] - 0s 1ms/step - loss: 0.0391\n",
      "Epoch 53/200\n",
      "313/313 [==============================] - 0s 1ms/step - loss: 0.0392\n",
      "Epoch 54/200\n",
      "313/313 [==============================] - 0s 1ms/step - loss: 0.0387\n",
      "Epoch 55/200\n",
      "313/313 [==============================] - 0s 1ms/step - loss: 0.0383\n",
      "Epoch 56/200\n",
      "313/313 [==============================] - 0s 1ms/step - loss: 0.0381\n",
      "Epoch 57/200\n",
      "313/313 [==============================] - 0s 1ms/step - loss: 0.0380\n",
      "Epoch 58/200\n",
      "313/313 [==============================] - 0s 1ms/step - loss: 0.0376\n",
      "Epoch 59/200\n",
      "313/313 [==============================] - 0s 1ms/step - loss: 0.0375\n",
      "Epoch 60/200\n",
      "313/313 [==============================] - 0s 1ms/step - loss: 0.0374\n",
      "Epoch 61/200\n",
      "313/313 [==============================] - 0s 1ms/step - loss: 0.0370\n",
      "Epoch 62/200\n",
      "313/313 [==============================] - 0s 2ms/step - loss: 0.0371\n",
      "Epoch 63/200\n",
      "313/313 [==============================] - 0s 1ms/step - loss: 0.0364\n",
      "Epoch 64/200\n",
      "313/313 [==============================] - 0s 1ms/step - loss: 0.0368\n",
      "Epoch 65/200\n",
      "313/313 [==============================] - 0s 1ms/step - loss: 0.0364\n",
      "Epoch 66/200\n",
      "313/313 [==============================] - 0s 2ms/step - loss: 0.0366\n",
      "Epoch 67/200\n",
      "313/313 [==============================] - 0s 1ms/step - loss: 0.0362\n",
      "Epoch 68/200\n",
      "313/313 [==============================] - 0s 1ms/step - loss: 0.0361\n",
      "Epoch 69/200\n",
      "313/313 [==============================] - 0s 1ms/step - loss: 0.0361\n",
      "Epoch 70/200\n",
      "313/313 [==============================] - 0s 1ms/step - loss: 0.0360\n",
      "Epoch 71/200\n",
      "313/313 [==============================] - 0s 1ms/step - loss: 0.0363\n",
      "Epoch 72/200\n",
      "313/313 [==============================] - 0s 1ms/step - loss: 0.0357\n",
      "Epoch 73/200\n",
      "313/313 [==============================] - 0s 1ms/step - loss: 0.0357\n",
      "Epoch 74/200\n",
      "313/313 [==============================] - 0s 1ms/step - loss: 0.0358\n",
      "Epoch 75/200\n",
      "313/313 [==============================] - 0s 1ms/step - loss: 0.0358\n",
      "Epoch 76/200\n",
      "313/313 [==============================] - 0s 1ms/step - loss: 0.0356\n",
      "Epoch 77/200\n",
      "313/313 [==============================] - 0s 1ms/step - loss: 0.0359\n",
      "Epoch 78/200\n",
      "313/313 [==============================] - 0s 1ms/step - loss: 0.0355\n",
      "Epoch 79/200\n",
      "313/313 [==============================] - 0s 1ms/step - loss: 0.0355\n",
      "Epoch 80/200\n",
      "313/313 [==============================] - 0s 1ms/step - loss: 0.0354\n",
      "Epoch 81/200\n",
      "313/313 [==============================] - 0s 1ms/step - loss: 0.0352\n",
      "Epoch 82/200\n",
      "313/313 [==============================] - 0s 1ms/step - loss: 0.0356\n",
      "Epoch 83/200\n",
      "313/313 [==============================] - 0s 1ms/step - loss: 0.0352\n",
      "Epoch 84/200\n",
      "313/313 [==============================] - 0s 1ms/step - loss: 0.0352\n",
      "Epoch 85/200\n",
      "313/313 [==============================] - 0s 1ms/step - loss: 0.0353\n",
      "Epoch 86/200\n",
      "313/313 [==============================] - 0s 1ms/step - loss: 0.0354\n",
      "Epoch 87/200\n",
      "313/313 [==============================] - 0s 1ms/step - loss: 0.0353\n",
      "Epoch 88/200\n",
      "313/313 [==============================] - 0s 1ms/step - loss: 0.0351\n",
      "Epoch 89/200\n",
      "313/313 [==============================] - 1s 2ms/step - loss: 0.0351\n",
      "Epoch 90/200\n",
      "313/313 [==============================] - 0s 1ms/step - loss: 0.0353\n",
      "Epoch 91/200\n",
      "313/313 [==============================] - 1s 3ms/step - loss: 0.0347\n",
      "Epoch 92/200\n",
      "313/313 [==============================] - 1s 2ms/step - loss: 0.0348\n",
      "Epoch 93/200\n",
      "313/313 [==============================] - 0s 1ms/step - loss: 0.0351\n",
      "Epoch 94/200\n",
      "313/313 [==============================] - 0s 1ms/step - loss: 0.0351\n",
      "Epoch 95/200\n",
      "313/313 [==============================] - 0s 1ms/step - loss: 0.0348\n",
      "Epoch 96/200\n",
      "313/313 [==============================] - 0s 1ms/step - loss: 0.0350\n",
      "Epoch 97/200\n",
      "313/313 [==============================] - 0s 1ms/step - loss: 0.0348\n",
      "Epoch 98/200\n",
      "313/313 [==============================] - 0s 1ms/step - loss: 0.0349\n",
      "Epoch 99/200\n",
      "313/313 [==============================] - 0s 1ms/step - loss: 0.0347\n",
      "Epoch 100/200\n",
      "313/313 [==============================] - 0s 1ms/step - loss: 0.0345\n",
      "Epoch 101/200\n",
      "313/313 [==============================] - 0s 1ms/step - loss: 0.0348\n",
      "Epoch 102/200\n",
      "313/313 [==============================] - 0s 1ms/step - loss: 0.0347\n",
      "Epoch 103/200\n",
      "313/313 [==============================] - 0s 1ms/step - loss: 0.0348\n",
      "Epoch 104/200\n",
      "313/313 [==============================] - 0s 2ms/step - loss: 0.0346\n",
      "Epoch 105/200\n",
      "313/313 [==============================] - 0s 1ms/step - loss: 0.0349\n",
      "Epoch 106/200\n",
      "313/313 [==============================] - 0s 1ms/step - loss: 0.0346\n",
      "Epoch 107/200\n",
      "313/313 [==============================] - 0s 1ms/step - loss: 0.0347\n",
      "Epoch 108/200\n",
      "313/313 [==============================] - 0s 1ms/step - loss: 0.0345\n",
      "Epoch 109/200\n",
      "313/313 [==============================] - 0s 1ms/step - loss: 0.0345\n",
      "Epoch 110/200\n",
      "313/313 [==============================] - 0s 1ms/step - loss: 0.0347\n",
      "Epoch 111/200\n",
      "313/313 [==============================] - 0s 1ms/step - loss: 0.0349\n",
      "Epoch 112/200\n",
      "313/313 [==============================] - 0s 1ms/step - loss: 0.0346\n",
      "Epoch 113/200\n",
      "313/313 [==============================] - 0s 1ms/step - loss: 0.0345\n",
      "Epoch 114/200\n",
      "313/313 [==============================] - 0s 1ms/step - loss: 0.0346\n",
      "Epoch 115/200\n",
      "313/313 [==============================] - 0s 1ms/step - loss: 0.0345\n",
      "Epoch 116/200\n",
      "313/313 [==============================] - 0s 1ms/step - loss: 0.0344\n",
      "Epoch 117/200\n",
      "313/313 [==============================] - 0s 1ms/step - loss: 0.0344\n",
      "Epoch 118/200\n",
      "313/313 [==============================] - 0s 1ms/step - loss: 0.0344\n",
      "Epoch 119/200\n",
      "313/313 [==============================] - 0s 1ms/step - loss: 0.0342\n",
      "Epoch 120/200\n",
      "313/313 [==============================] - 0s 1ms/step - loss: 0.0345\n",
      "Epoch 121/200\n",
      "313/313 [==============================] - 0s 1ms/step - loss: 0.0345\n",
      "Epoch 122/200\n",
      "313/313 [==============================] - 0s 1ms/step - loss: 0.0347\n",
      "Epoch 123/200\n",
      "313/313 [==============================] - 0s 1ms/step - loss: 0.0342\n",
      "Epoch 124/200\n",
      "313/313 [==============================] - 0s 1ms/step - loss: 0.0342\n",
      "Epoch 125/200\n",
      "313/313 [==============================] - 0s 1ms/step - loss: 0.0341\n",
      "Epoch 126/200\n",
      "313/313 [==============================] - 0s 1ms/step - loss: 0.0343\n",
      "Epoch 127/200\n",
      "313/313 [==============================] - 0s 1ms/step - loss: 0.0342\n",
      "Epoch 128/200\n",
      "313/313 [==============================] - 0s 1ms/step - loss: 0.0343\n",
      "Epoch 129/200\n",
      "313/313 [==============================] - 0s 1ms/step - loss: 0.0342\n",
      "Epoch 130/200\n",
      "313/313 [==============================] - 0s 1ms/step - loss: 0.0343\n",
      "Epoch 131/200\n",
      "313/313 [==============================] - 0s 1ms/step - loss: 0.0342\n",
      "Epoch 132/200\n",
      "313/313 [==============================] - 0s 1ms/step - loss: 0.0341\n",
      "Epoch 133/200\n",
      "313/313 [==============================] - 0s 1ms/step - loss: 0.0344\n",
      "Epoch 134/200\n",
      "313/313 [==============================] - 0s 1ms/step - loss: 0.0339\n",
      "Epoch 135/200\n",
      "313/313 [==============================] - 0s 1ms/step - loss: 0.0340\n",
      "Epoch 136/200\n",
      "313/313 [==============================] - 0s 1ms/step - loss: 0.0341\n",
      "Epoch 137/200\n",
      "313/313 [==============================] - 0s 1ms/step - loss: 0.0338\n",
      "Epoch 138/200\n",
      "313/313 [==============================] - 0s 1ms/step - loss: 0.0340\n",
      "Epoch 139/200\n",
      "313/313 [==============================] - 0s 1ms/step - loss: 0.0338\n",
      "Epoch 140/200\n",
      "313/313 [==============================] - 1s 2ms/step - loss: 0.0341\n",
      "Epoch 141/200\n",
      "313/313 [==============================] - 0s 2ms/step - loss: 0.0339\n",
      "Epoch 142/200\n",
      "313/313 [==============================] - 1s 2ms/step - loss: 0.0339\n",
      "Epoch 143/200\n",
      "313/313 [==============================] - 0s 1ms/step - loss: 0.0338\n",
      "Epoch 144/200\n",
      "313/313 [==============================] - 0s 1ms/step - loss: 0.0343\n",
      "Epoch 145/200\n",
      "313/313 [==============================] - 0s 1ms/step - loss: 0.0339\n",
      "Epoch 146/200\n",
      "313/313 [==============================] - 0s 1ms/step - loss: 0.0340\n",
      "Epoch 147/200\n",
      "313/313 [==============================] - 0s 1ms/step - loss: 0.0338\n",
      "Epoch 148/200\n",
      "313/313 [==============================] - 0s 1ms/step - loss: 0.0338\n",
      "Epoch 149/200\n",
      "313/313 [==============================] - 0s 1ms/step - loss: 0.0337\n",
      "Epoch 150/200\n",
      "313/313 [==============================] - 0s 1ms/step - loss: 0.0339\n",
      "Epoch 151/200\n",
      "313/313 [==============================] - 0s 1ms/step - loss: 0.0339\n",
      "Epoch 152/200\n",
      "313/313 [==============================] - 0s 1ms/step - loss: 0.0335\n",
      "Epoch 153/200\n",
      "313/313 [==============================] - 0s 2ms/step - loss: 0.0340\n",
      "Epoch 154/200\n",
      "313/313 [==============================] - 0s 1ms/step - loss: 0.0338\n",
      "Epoch 155/200\n",
      "313/313 [==============================] - 0s 1ms/step - loss: 0.0338\n",
      "Epoch 156/200\n",
      "313/313 [==============================] - 0s 1ms/step - loss: 0.0337\n",
      "Epoch 157/200\n",
      "313/313 [==============================] - 0s 1ms/step - loss: 0.0335\n",
      "Epoch 158/200\n",
      "313/313 [==============================] - 0s 1ms/step - loss: 0.0336\n",
      "Epoch 159/200\n",
      "313/313 [==============================] - 0s 1ms/step - loss: 0.0339\n",
      "Epoch 160/200\n",
      "313/313 [==============================] - 0s 1ms/step - loss: 0.0337\n",
      "Epoch 161/200\n",
      "313/313 [==============================] - 0s 1ms/step - loss: 0.0334\n",
      "Epoch 162/200\n",
      "313/313 [==============================] - 0s 1ms/step - loss: 0.0334\n",
      "Epoch 163/200\n",
      "313/313 [==============================] - 0s 1ms/step - loss: 0.0333\n",
      "Epoch 164/200\n",
      "313/313 [==============================] - 0s 1ms/step - loss: 0.0335\n",
      "Epoch 165/200\n",
      "313/313 [==============================] - 0s 1ms/step - loss: 0.0336\n",
      "Epoch 166/200\n",
      "313/313 [==============================] - 0s 1ms/step - loss: 0.0336\n",
      "Epoch 167/200\n",
      "313/313 [==============================] - 0s 1ms/step - loss: 0.0334\n",
      "Epoch 168/200\n",
      "313/313 [==============================] - 0s 1ms/step - loss: 0.0335\n",
      "Epoch 169/200\n",
      "313/313 [==============================] - 0s 1ms/step - loss: 0.0337\n",
      "Epoch 170/200\n",
      "313/313 [==============================] - 0s 1ms/step - loss: 0.0334\n",
      "Epoch 171/200\n",
      "313/313 [==============================] - 0s 1ms/step - loss: 0.0333\n",
      "Epoch 172/200\n",
      "313/313 [==============================] - 0s 1ms/step - loss: 0.0335\n",
      "Epoch 173/200\n",
      "313/313 [==============================] - 0s 1ms/step - loss: 0.0335\n",
      "Epoch 174/200\n",
      "313/313 [==============================] - 0s 1ms/step - loss: 0.0336\n",
      "Epoch 175/200\n",
      "313/313 [==============================] - 0s 1ms/step - loss: 0.0333\n",
      "Epoch 176/200\n",
      "313/313 [==============================] - 0s 1ms/step - loss: 0.0337\n",
      "Epoch 177/200\n",
      "313/313 [==============================] - 0s 1ms/step - loss: 0.0334\n",
      "Epoch 178/200\n",
      "313/313 [==============================] - 0s 1ms/step - loss: 0.0335\n",
      "Epoch 179/200\n",
      "313/313 [==============================] - 0s 1ms/step - loss: 0.0334\n",
      "Epoch 180/200\n",
      "313/313 [==============================] - 0s 1ms/step - loss: 0.0335\n",
      "Epoch 181/200\n",
      "313/313 [==============================] - 0s 1ms/step - loss: 0.0334\n",
      "Epoch 182/200\n",
      "313/313 [==============================] - 0s 1ms/step - loss: 0.0336\n",
      "Epoch 183/200\n",
      "313/313 [==============================] - 0s 1ms/step - loss: 0.0335\n",
      "Epoch 184/200\n",
      "313/313 [==============================] - 0s 1ms/step - loss: 0.0335\n",
      "Epoch 185/200\n",
      "313/313 [==============================] - 0s 1ms/step - loss: 0.0334\n",
      "Epoch 186/200\n",
      "313/313 [==============================] - 0s 1ms/step - loss: 0.0333\n",
      "Epoch 187/200\n",
      "313/313 [==============================] - 0s 1ms/step - loss: 0.0332\n",
      "Epoch 188/200\n",
      "313/313 [==============================] - 0s 1ms/step - loss: 0.0336\n",
      "Epoch 189/200\n",
      "313/313 [==============================] - 0s 1ms/step - loss: 0.0334\n",
      "Epoch 190/200\n",
      "313/313 [==============================] - 0s 1ms/step - loss: 0.0336\n",
      "Epoch 191/200\n",
      "313/313 [==============================] - 0s 1ms/step - loss: 0.0333\n",
      "Epoch 192/200\n",
      "313/313 [==============================] - 0s 1ms/step - loss: 0.0333\n",
      "Epoch 193/200\n",
      "313/313 [==============================] - 0s 1ms/step - loss: 0.0333\n",
      "Epoch 194/200\n",
      "313/313 [==============================] - 0s 1ms/step - loss: 0.0332\n",
      "Epoch 195/200\n",
      "313/313 [==============================] - 0s 1ms/step - loss: 0.0336\n",
      "Epoch 196/200\n",
      "313/313 [==============================] - 0s 1ms/step - loss: 0.0334\n",
      "Epoch 197/200\n",
      "313/313 [==============================] - 0s 1ms/step - loss: 0.0336\n",
      "Epoch 198/200\n",
      "313/313 [==============================] - 0s 1ms/step - loss: 0.0338\n",
      "Epoch 199/200\n",
      "313/313 [==============================] - 0s 1ms/step - loss: 0.0335\n",
      "Epoch 200/200\n",
      "313/313 [==============================] - 1s 2ms/step - loss: 0.0335\n"
     ]
    },
    {
     "data": {
      "text/plain": [
       "<keras.callbacks.History at 0x1da4e070a00>"
      ]
     },
     "execution_count": 14,
     "metadata": {},
     "output_type": "execute_result"
    }
   ],
   "source": [
    "model.fit(train_x_np, train_y_np, epochs=200, verbose=1)"
   ]
  },
  {
   "cell_type": "code",
   "execution_count": 44,
   "metadata": {},
   "outputs": [
    {
     "name": "stdout",
     "output_type": "stream",
     "text": [
      "313/313 [==============================] - 0s 1ms/step - loss: 0.0423\n"
     ]
    }
   ],
   "source": [
    "mae = model.evaluate(train_x_np, train_y_np)"
   ]
  },
  {
   "cell_type": "code",
   "execution_count": 46,
   "metadata": {},
   "outputs": [
    {
     "name": "stdout",
     "output_type": "stream",
     "text": [
      "313/313 [==============================] - 1s 2ms/step - loss: 0.0347\n"
     ]
    }
   ],
   "source": [
    "mae_500 = model.evaluate(train_x_np, train_y_np)"
   ]
  },
  {
   "cell_type": "code",
   "execution_count": 15,
   "metadata": {},
   "outputs": [
    {
     "name": "stdout",
     "output_type": "stream",
     "text": [
      "313/313 [==============================] - 1s 1ms/step - loss: 0.0337\n"
     ]
    }
   ],
   "source": [
    "mae_5layer = model.evaluate(train_x_np, train_y_np)"
   ]
  },
  {
   "cell_type": "code",
   "execution_count": 18,
   "metadata": {},
   "outputs": [
    {
     "name": "stdout",
     "output_type": "stream",
     "text": [
      "88/88 [==============================] - 0s 1ms/step - loss: 0.0446\n"
     ]
    }
   ],
   "source": [
    "preds = model.predict(test_x_np)\n",
    "\n",
    "mae_5layer_test = model.evaluate(test_x_np, test_y_np)"
   ]
  },
  {
   "cell_type": "markdown",
   "metadata": {},
   "source": [
    "### From the inital testing of different alogrithms, It seems like Random forest is better and is well enough since the mae is lowest of the batch. But there is some degree of overfitting"
   ]
  },
  {
   "cell_type": "markdown",
   "metadata": {},
   "source": [
    "### ========================= Hyper parameter tuning =========================="
   ]
  },
  {
   "cell_type": "code",
   "execution_count": 29,
   "metadata": {},
   "outputs": [],
   "source": [
    "from sklearn.model_selection import RandomizedSearchCV\n",
    "\n",
    "parameters = {\n",
    "    'rfr__n_estimators' : [100, 300, 700, 1000],\n",
    "    'rfr__max_depth': [2, 5, 8, 10],\n",
    "    'rfr__min_samples_split' : [2, 5, 10]\n",
    "}\n",
    "\n",
    "rf_grid = RandomizedSearchCV(rfr_pipe, parameters, cv = 3)"
   ]
  },
  {
   "cell_type": "code",
   "execution_count": 30,
   "metadata": {},
   "outputs": [
    {
     "data": {
      "text/plain": [
       "RandomizedSearchCV(cv=3,\n",
       "                   estimator=Pipeline(steps=[('scaler', StandardScaler()),\n",
       "                                             ('rfr',\n",
       "                                              RandomForestRegressor(random_state=42))]),\n",
       "                   param_distributions={'rfr__max_depth': [2, 5, 8, 10],\n",
       "                                        'rfr__min_samples_split': [2, 5, 10],\n",
       "                                        'rfr__n_estimators': [100, 300, 700,\n",
       "                                                              1000]})"
      ]
     },
     "execution_count": 30,
     "metadata": {},
     "output_type": "execute_result"
    }
   ],
   "source": [
    "rf_grid.fit(X_train, y_train)"
   ]
  },
  {
   "cell_type": "code",
   "execution_count": 31,
   "metadata": {},
   "outputs": [
    {
     "data": {
      "text/plain": [
       "{'rfr__n_estimators': 1000, 'rfr__min_samples_split': 5, 'rfr__max_depth': 10}"
      ]
     },
     "execution_count": 31,
     "metadata": {},
     "output_type": "execute_result"
    }
   ],
   "source": [
    "rf_grid.best_params_"
   ]
  },
  {
   "cell_type": "code",
   "execution_count": 33,
   "metadata": {},
   "outputs": [],
   "source": [
    "rfr_pipe_tuned = Pipeline(steps = [\n",
    "    ('scaler', StandardScaler()),\n",
    "    ('rfr', RandomForestRegressor(n_estimators=1000, min_samples_split=5, max_depth=10, random_state=42))\n",
    "])"
   ]
  },
  {
   "cell_type": "code",
   "execution_count": 34,
   "metadata": {},
   "outputs": [
    {
     "data": {
      "text/plain": [
       "Pipeline(steps=[('scaler', StandardScaler()),\n",
       "                ('rfr',\n",
       "                 RandomForestRegressor(max_depth=10, min_samples_split=5,\n",
       "                                       n_estimators=1000, random_state=42))])"
      ]
     },
     "execution_count": 34,
     "metadata": {},
     "output_type": "execute_result"
    }
   ],
   "source": [
    "rfr_pipe_tuned.fit(X_train, y_train)"
   ]
  },
  {
   "cell_type": "code",
   "execution_count": 57,
   "metadata": {},
   "outputs": [
    {
     "name": "stdout",
     "output_type": "stream",
     "text": [
      "MAE for tuned train set:  0.01888447433869532\n",
      "MAE for tuned test set:  0.02236169396921045\n"
     ]
    }
   ],
   "source": [
    "preds_tuned = rfr_pipe_tuned.predict(X_test)\n",
    "preds_train = rfr_pipe_tuned.predict(X_train)\n",
    "\n",
    "print('MAE for tuned train set: ', mean_absolute_error(y_train, preds_train))\n",
    "print('MAE for tuned test set: ', mean_absolute_error(y_test, preds_tuned))"
   ]
  },
  {
   "cell_type": "code",
   "execution_count": 54,
   "metadata": {},
   "outputs": [
    {
     "data": {
      "text/plain": [
       "{'bootstrap': True,\n",
       " 'ccp_alpha': 0.0,\n",
       " 'criterion': 'mse',\n",
       " 'max_depth': None,\n",
       " 'max_features': 'auto',\n",
       " 'max_leaf_nodes': None,\n",
       " 'max_samples': None,\n",
       " 'min_impurity_decrease': 0.0,\n",
       " 'min_impurity_split': None,\n",
       " 'min_samples_leaf': 1,\n",
       " 'min_samples_split': 2,\n",
       " 'min_weight_fraction_leaf': 0.0,\n",
       " 'n_estimators': 100,\n",
       " 'n_jobs': None,\n",
       " 'oob_score': False,\n",
       " 'random_state': 42,\n",
       " 'verbose': 0,\n",
       " 'warm_start': False}"
      ]
     },
     "execution_count": 54,
     "metadata": {},
     "output_type": "execute_result"
    }
   ],
   "source": [
    "rfr_pipe._final_estimator.get_params()"
   ]
  },
  {
   "cell_type": "markdown",
   "metadata": {},
   "source": [
    "## XGBRegressor is more generalized than Random forest and have less MAE than SVR."
   ]
  },
  {
   "cell_type": "code",
   "execution_count": 48,
   "metadata": {},
   "outputs": [],
   "source": [
    "from sklearn.model_selection import RandomizedSearchCV\n",
    "\n",
    "xgb = XGBRegressor()\n",
    "\n",
    "xgb_pipe = Pipeline([\n",
    "    ('scaler', StandardScaler()),\n",
    "    ('multi_xgb', MultiOutputRegressor(xgb))\n",
    "]\n",
    ")\n",
    "\n",
    "params = {\n",
    "    'multi_xgb__estimator__booster' : ['gbtree', 'gblinear', 'dart'],\n",
    "    'multi_xgb__estimator__learning_rate': [0.1,0.2,0.3,0.4,0.5],\n",
    "    'multi_xgb__estimator__max_depth': [1, 2, 3, 4, 5],\n",
    "    'multi_xgb__estimator__n_estimators' : [100, 200, 300, 400],\n",
    "    'multi_xgb__estimator__lambda': [0.1, 0.2, 0.5, 0.8]\n",
    "}\n",
    "\n",
    "xgb_grid = RandomizedSearchCV(xgb_pipe, params, cv = 5, scoring='neg_mean_absolute_error')"
   ]
  },
  {
   "cell_type": "code",
   "execution_count": 49,
   "metadata": {},
   "outputs": [
    {
     "name": "stdout",
     "output_type": "stream",
     "text": [
      "[21:39:15] WARNING: C:/Users/Administrator/workspace/xgboost-win64_release_1.5.0/src/learner.cc:576: \n",
      "Parameters: { \"max_depth\" } might not be used.\n",
      "\n",
      "  This could be a false alarm, with some parameters getting used by language bindings but\n",
      "  then being mistakenly passed down to XGBoost core, or some parameter actually being used\n",
      "  but getting flagged wrongly here. Please open an issue if you find any such cases.\n",
      "\n",
      "\n",
      "[21:39:15] WARNING: C:/Users/Administrator/workspace/xgboost-win64_release_1.5.0/src/learner.cc:576: \n",
      "Parameters: { \"max_depth\" } might not be used.\n",
      "\n",
      "  This could be a false alarm, with some parameters getting used by language bindings but\n",
      "  then being mistakenly passed down to XGBoost core, or some parameter actually being used\n",
      "  but getting flagged wrongly here. Please open an issue if you find any such cases.\n",
      "\n",
      "\n",
      "[21:39:15] WARNING: C:/Users/Administrator/workspace/xgboost-win64_release_1.5.0/src/learner.cc:576: \n",
      "Parameters: { \"max_depth\" } might not be used.\n",
      "\n",
      "  This could be a false alarm, with some parameters getting used by language bindings but\n",
      "  then being mistakenly passed down to XGBoost core, or some parameter actually being used\n",
      "  but getting flagged wrongly here. Please open an issue if you find any such cases.\n",
      "\n",
      "\n",
      "[21:39:15] WARNING: C:/Users/Administrator/workspace/xgboost-win64_release_1.5.0/src/learner.cc:576: \n",
      "Parameters: { \"max_depth\" } might not be used.\n",
      "\n",
      "  This could be a false alarm, with some parameters getting used by language bindings but\n",
      "  then being mistakenly passed down to XGBoost core, or some parameter actually being used\n",
      "  but getting flagged wrongly here. Please open an issue if you find any such cases.\n",
      "\n",
      "\n",
      "[21:39:16] WARNING: C:/Users/Administrator/workspace/xgboost-win64_release_1.5.0/src/learner.cc:576: \n",
      "Parameters: { \"max_depth\" } might not be used.\n",
      "\n",
      "  This could be a false alarm, with some parameters getting used by language bindings but\n",
      "  then being mistakenly passed down to XGBoost core, or some parameter actually being used\n",
      "  but getting flagged wrongly here. Please open an issue if you find any such cases.\n",
      "\n",
      "\n",
      "[21:39:16] WARNING: C:/Users/Administrator/workspace/xgboost-win64_release_1.5.0/src/learner.cc:576: \n",
      "Parameters: { \"max_depth\" } might not be used.\n",
      "\n",
      "  This could be a false alarm, with some parameters getting used by language bindings but\n",
      "  then being mistakenly passed down to XGBoost core, or some parameter actually being used\n",
      "  but getting flagged wrongly here. Please open an issue if you find any such cases.\n",
      "\n",
      "\n",
      "[21:39:16] WARNING: C:/Users/Administrator/workspace/xgboost-win64_release_1.5.0/src/learner.cc:576: \n",
      "Parameters: { \"max_depth\" } might not be used.\n",
      "\n",
      "  This could be a false alarm, with some parameters getting used by language bindings but\n",
      "  then being mistakenly passed down to XGBoost core, or some parameter actually being used\n",
      "  but getting flagged wrongly here. Please open an issue if you find any such cases.\n",
      "\n",
      "\n",
      "[21:39:16] WARNING: C:/Users/Administrator/workspace/xgboost-win64_release_1.5.0/src/learner.cc:576: \n",
      "Parameters: { \"max_depth\" } might not be used.\n",
      "\n",
      "  This could be a false alarm, with some parameters getting used by language bindings but\n",
      "  then being mistakenly passed down to XGBoost core, or some parameter actually being used\n",
      "  but getting flagged wrongly here. Please open an issue if you find any such cases.\n",
      "\n",
      "\n",
      "[21:39:16] WARNING: C:/Users/Administrator/workspace/xgboost-win64_release_1.5.0/src/learner.cc:576: \n",
      "Parameters: { \"max_depth\" } might not be used.\n",
      "\n",
      "  This could be a false alarm, with some parameters getting used by language bindings but\n",
      "  then being mistakenly passed down to XGBoost core, or some parameter actually being used\n",
      "  but getting flagged wrongly here. Please open an issue if you find any such cases.\n",
      "\n",
      "\n",
      "[21:39:17] WARNING: C:/Users/Administrator/workspace/xgboost-win64_release_1.5.0/src/learner.cc:576: \n",
      "Parameters: { \"max_depth\" } might not be used.\n",
      "\n",
      "  This could be a false alarm, with some parameters getting used by language bindings but\n",
      "  then being mistakenly passed down to XGBoost core, or some parameter actually being used\n",
      "  but getting flagged wrongly here. Please open an issue if you find any such cases.\n",
      "\n",
      "\n",
      "[21:39:17] WARNING: C:/Users/Administrator/workspace/xgboost-win64_release_1.5.0/src/learner.cc:576: \n",
      "Parameters: { \"max_depth\" } might not be used.\n",
      "\n",
      "  This could be a false alarm, with some parameters getting used by language bindings but\n",
      "  then being mistakenly passed down to XGBoost core, or some parameter actually being used\n",
      "  but getting flagged wrongly here. Please open an issue if you find any such cases.\n",
      "\n",
      "\n",
      "[21:39:17] WARNING: C:/Users/Administrator/workspace/xgboost-win64_release_1.5.0/src/learner.cc:576: \n",
      "Parameters: { \"max_depth\" } might not be used.\n",
      "\n",
      "  This could be a false alarm, with some parameters getting used by language bindings but\n",
      "  then being mistakenly passed down to XGBoost core, or some parameter actually being used\n",
      "  but getting flagged wrongly here. Please open an issue if you find any such cases.\n",
      "\n",
      "\n",
      "[21:39:18] WARNING: C:/Users/Administrator/workspace/xgboost-win64_release_1.5.0/src/learner.cc:576: \n",
      "Parameters: { \"max_depth\" } might not be used.\n",
      "\n",
      "  This could be a false alarm, with some parameters getting used by language bindings but\n",
      "  then being mistakenly passed down to XGBoost core, or some parameter actually being used\n",
      "  but getting flagged wrongly here. Please open an issue if you find any such cases.\n",
      "\n",
      "\n",
      "[21:39:18] WARNING: C:/Users/Administrator/workspace/xgboost-win64_release_1.5.0/src/learner.cc:576: \n",
      "Parameters: { \"max_depth\" } might not be used.\n",
      "\n",
      "  This could be a false alarm, with some parameters getting used by language bindings but\n",
      "  then being mistakenly passed down to XGBoost core, or some parameter actually being used\n",
      "  but getting flagged wrongly here. Please open an issue if you find any such cases.\n",
      "\n",
      "\n",
      "[21:39:19] WARNING: C:/Users/Administrator/workspace/xgboost-win64_release_1.5.0/src/learner.cc:576: \n",
      "Parameters: { \"max_depth\" } might not be used.\n",
      "\n",
      "  This could be a false alarm, with some parameters getting used by language bindings but\n",
      "  then being mistakenly passed down to XGBoost core, or some parameter actually being used\n",
      "  but getting flagged wrongly here. Please open an issue if you find any such cases.\n",
      "\n",
      "\n",
      "[21:39:19] WARNING: C:/Users/Administrator/workspace/xgboost-win64_release_1.5.0/src/learner.cc:576: \n",
      "Parameters: { \"max_depth\" } might not be used.\n",
      "\n",
      "  This could be a false alarm, with some parameters getting used by language bindings but\n",
      "  then being mistakenly passed down to XGBoost core, or some parameter actually being used\n",
      "  but getting flagged wrongly here. Please open an issue if you find any such cases.\n",
      "\n",
      "\n",
      "[21:39:19] WARNING: C:/Users/Administrator/workspace/xgboost-win64_release_1.5.0/src/learner.cc:576: \n",
      "Parameters: { \"max_depth\" } might not be used.\n",
      "\n",
      "  This could be a false alarm, with some parameters getting used by language bindings but\n",
      "  then being mistakenly passed down to XGBoost core, or some parameter actually being used\n",
      "  but getting flagged wrongly here. Please open an issue if you find any such cases.\n",
      "\n",
      "\n",
      "[21:39:20] WARNING: C:/Users/Administrator/workspace/xgboost-win64_release_1.5.0/src/learner.cc:576: \n",
      "Parameters: { \"max_depth\" } might not be used.\n",
      "\n",
      "  This could be a false alarm, with some parameters getting used by language bindings but\n",
      "  then being mistakenly passed down to XGBoost core, or some parameter actually being used\n",
      "  but getting flagged wrongly here. Please open an issue if you find any such cases.\n",
      "\n",
      "\n",
      "[21:39:20] WARNING: C:/Users/Administrator/workspace/xgboost-win64_release_1.5.0/src/learner.cc:576: \n",
      "Parameters: { \"max_depth\" } might not be used.\n",
      "\n",
      "  This could be a false alarm, with some parameters getting used by language bindings but\n",
      "  then being mistakenly passed down to XGBoost core, or some parameter actually being used\n",
      "  but getting flagged wrongly here. Please open an issue if you find any such cases.\n",
      "\n",
      "\n",
      "[21:39:21] WARNING: C:/Users/Administrator/workspace/xgboost-win64_release_1.5.0/src/learner.cc:576: \n",
      "Parameters: { \"max_depth\" } might not be used.\n",
      "\n",
      "  This could be a false alarm, with some parameters getting used by language bindings but\n",
      "  then being mistakenly passed down to XGBoost core, or some parameter actually being used\n",
      "  but getting flagged wrongly here. Please open an issue if you find any such cases.\n",
      "\n",
      "\n",
      "[21:41:03] WARNING: C:/Users/Administrator/workspace/xgboost-win64_release_1.5.0/src/learner.cc:576: \n",
      "Parameters: { \"max_depth\" } might not be used.\n",
      "\n",
      "  This could be a false alarm, with some parameters getting used by language bindings but\n",
      "  then being mistakenly passed down to XGBoost core, or some parameter actually being used\n",
      "  but getting flagged wrongly here. Please open an issue if you find any such cases.\n",
      "\n",
      "\n",
      "[21:41:04] WARNING: C:/Users/Administrator/workspace/xgboost-win64_release_1.5.0/src/learner.cc:576: \n",
      "Parameters: { \"max_depth\" } might not be used.\n",
      "\n",
      "  This could be a false alarm, with some parameters getting used by language bindings but\n",
      "  then being mistakenly passed down to XGBoost core, or some parameter actually being used\n",
      "  but getting flagged wrongly here. Please open an issue if you find any such cases.\n",
      "\n",
      "\n",
      "[21:41:04] WARNING: C:/Users/Administrator/workspace/xgboost-win64_release_1.5.0/src/learner.cc:576: \n",
      "Parameters: { \"max_depth\" } might not be used.\n",
      "\n",
      "  This could be a false alarm, with some parameters getting used by language bindings but\n",
      "  then being mistakenly passed down to XGBoost core, or some parameter actually being used\n",
      "  but getting flagged wrongly here. Please open an issue if you find any such cases.\n",
      "\n",
      "\n",
      "[21:41:04] WARNING: C:/Users/Administrator/workspace/xgboost-win64_release_1.5.0/src/learner.cc:576: \n",
      "Parameters: { \"max_depth\" } might not be used.\n",
      "\n",
      "  This could be a false alarm, with some parameters getting used by language bindings but\n",
      "  then being mistakenly passed down to XGBoost core, or some parameter actually being used\n",
      "  but getting flagged wrongly here. Please open an issue if you find any such cases.\n",
      "\n",
      "\n",
      "[21:41:05] WARNING: C:/Users/Administrator/workspace/xgboost-win64_release_1.5.0/src/learner.cc:576: \n",
      "Parameters: { \"max_depth\" } might not be used.\n",
      "\n",
      "  This could be a false alarm, with some parameters getting used by language bindings but\n",
      "  then being mistakenly passed down to XGBoost core, or some parameter actually being used\n",
      "  but getting flagged wrongly here. Please open an issue if you find any such cases.\n",
      "\n",
      "\n",
      "[21:41:05] WARNING: C:/Users/Administrator/workspace/xgboost-win64_release_1.5.0/src/learner.cc:576: \n",
      "Parameters: { \"max_depth\" } might not be used.\n",
      "\n",
      "  This could be a false alarm, with some parameters getting used by language bindings but\n",
      "  then being mistakenly passed down to XGBoost core, or some parameter actually being used\n",
      "  but getting flagged wrongly here. Please open an issue if you find any such cases.\n",
      "\n",
      "\n",
      "[21:41:06] WARNING: C:/Users/Administrator/workspace/xgboost-win64_release_1.5.0/src/learner.cc:576: \n",
      "Parameters: { \"max_depth\" } might not be used.\n",
      "\n",
      "  This could be a false alarm, with some parameters getting used by language bindings but\n",
      "  then being mistakenly passed down to XGBoost core, or some parameter actually being used\n",
      "  but getting flagged wrongly here. Please open an issue if you find any such cases.\n",
      "\n",
      "\n",
      "[21:41:06] WARNING: C:/Users/Administrator/workspace/xgboost-win64_release_1.5.0/src/learner.cc:576: \n",
      "Parameters: { \"max_depth\" } might not be used.\n",
      "\n",
      "  This could be a false alarm, with some parameters getting used by language bindings but\n",
      "  then being mistakenly passed down to XGBoost core, or some parameter actually being used\n",
      "  but getting flagged wrongly here. Please open an issue if you find any such cases.\n",
      "\n",
      "\n",
      "[21:41:07] WARNING: C:/Users/Administrator/workspace/xgboost-win64_release_1.5.0/src/learner.cc:576: \n",
      "Parameters: { \"max_depth\" } might not be used.\n",
      "\n",
      "  This could be a false alarm, with some parameters getting used by language bindings but\n",
      "  then being mistakenly passed down to XGBoost core, or some parameter actually being used\n",
      "  but getting flagged wrongly here. Please open an issue if you find any such cases.\n",
      "\n",
      "\n",
      "[21:41:07] WARNING: C:/Users/Administrator/workspace/xgboost-win64_release_1.5.0/src/learner.cc:576: \n",
      "Parameters: { \"max_depth\" } might not be used.\n",
      "\n",
      "  This could be a false alarm, with some parameters getting used by language bindings but\n",
      "  then being mistakenly passed down to XGBoost core, or some parameter actually being used\n",
      "  but getting flagged wrongly here. Please open an issue if you find any such cases.\n",
      "\n",
      "\n"
     ]
    },
    {
     "data": {
      "text/plain": [
       "RandomizedSearchCV(cv=5,\n",
       "                   estimator=Pipeline(steps=[('scaler', StandardScaler()),\n",
       "                                             ('multi_xgb',\n",
       "                                              MultiOutputRegressor(estimator=XGBRegressor(base_score=None,\n",
       "                                                                                          booster=None,\n",
       "                                                                                          colsample_bylevel=None,\n",
       "                                                                                          colsample_bynode=None,\n",
       "                                                                                          colsample_bytree=None,\n",
       "                                                                                          enable_categorical=False,\n",
       "                                                                                          gamma=None,\n",
       "                                                                                          gpu_id=None,\n",
       "                                                                                          importance_type=None,\n",
       "                                                                                          interaction_constraints=None,\n",
       "                                                                                          learning_rate=None,\n",
       "                                                                                          ma...\n",
       "                                                                                          validate_parameters=None,\n",
       "                                                                                          verbosity=None)))]),\n",
       "                   param_distributions={'multi_xgb__estimator__booster': ['gbtree',\n",
       "                                                                          'gblinear',\n",
       "                                                                          'dart'],\n",
       "                                        'multi_xgb__estimator__lambda': [0.1,\n",
       "                                                                         0.2,\n",
       "                                                                         0.5,\n",
       "                                                                         0.8],\n",
       "                                        'multi_xgb__estimator__learning_rate': [0.1,\n",
       "                                                                                0.2,\n",
       "                                                                                0.3,\n",
       "                                                                                0.4,\n",
       "                                                                                0.5],\n",
       "                                        'multi_xgb__estimator__max_depth': [1,\n",
       "                                                                            2,\n",
       "                                                                            3,\n",
       "                                                                            4,\n",
       "                                                                            5],\n",
       "                                        'multi_xgb__estimator__n_estimators': [100,\n",
       "                                                                               200,\n",
       "                                                                               300,\n",
       "                                                                               400]},\n",
       "                   scoring='neg_mean_absolute_error')"
      ]
     },
     "execution_count": 49,
     "metadata": {},
     "output_type": "execute_result"
    }
   ],
   "source": [
    "xgb_grid.fit(X_train, y_train)"
   ]
  },
  {
   "cell_type": "code",
   "execution_count": 50,
   "metadata": {},
   "outputs": [
    {
     "data": {
      "text/plain": [
       "{'multi_xgb__estimator__n_estimators': 400,\n",
       " 'multi_xgb__estimator__max_depth': 4,\n",
       " 'multi_xgb__estimator__learning_rate': 0.4,\n",
       " 'multi_xgb__estimator__lambda': 0.1,\n",
       " 'multi_xgb__estimator__booster': 'dart'}"
      ]
     },
     "execution_count": 50,
     "metadata": {},
     "output_type": "execute_result"
    }
   ],
   "source": [
    "xgb_grid.best_params_"
   ]
  },
  {
   "cell_type": "code",
   "execution_count": 51,
   "metadata": {},
   "outputs": [
    {
     "data": {
      "text/plain": [
       "-0.018736307556736557"
      ]
     },
     "execution_count": 51,
     "metadata": {},
     "output_type": "execute_result"
    }
   ],
   "source": [
    "xgb_grid.best_score_"
   ]
  },
  {
   "cell_type": "code",
   "execution_count": 53,
   "metadata": {},
   "outputs": [],
   "source": [
    "xgb = XGBRegressor(n_estimators=400, max_depth = 4, learning_rate = 0.4, reg_lambda = 0.1, booster= 'dart')\n",
    "\n",
    "xgb_pipe = Pipeline(steps = [\n",
    "    ('scaler', StandardScaler()),\n",
    "    ('multi_svr', MultiOutputRegressor(xgb))\n",
    "]\n",
    "    )"
   ]
  },
  {
   "cell_type": "code",
   "execution_count": 54,
   "metadata": {},
   "outputs": [
    {
     "data": {
      "text/plain": [
       "Pipeline(steps=[('scaler', StandardScaler()),\n",
       "                ('multi_svr',\n",
       "                 MultiOutputRegressor(estimator=XGBRegressor(base_score=None,\n",
       "                                                             booster='dart',\n",
       "                                                             colsample_bylevel=None,\n",
       "                                                             colsample_bynode=None,\n",
       "                                                             colsample_bytree=None,\n",
       "                                                             enable_categorical=False,\n",
       "                                                             gamma=None,\n",
       "                                                             gpu_id=None,\n",
       "                                                             importance_type=None,\n",
       "                                                             interaction_constraints=None,\n",
       "                                                             learning_rate=0.4,\n",
       "                                                             max_delta_step=None,\n",
       "                                                             max_depth=4,\n",
       "                                                             min_child_weight=None,\n",
       "                                                             missing=nan,\n",
       "                                                             monotone_constraints=None,\n",
       "                                                             n_estimators=400,\n",
       "                                                             n_jobs=None,\n",
       "                                                             num_parallel_tree=None,\n",
       "                                                             predictor=None,\n",
       "                                                             random_state=None,\n",
       "                                                             reg_alpha=None,\n",
       "                                                             reg_lambda=0.1,\n",
       "                                                             scale_pos_weight=None,\n",
       "                                                             subsample=None,\n",
       "                                                             tree_method=None,\n",
       "                                                             validate_parameters=None,\n",
       "                                                             verbosity=None)))])"
      ]
     },
     "execution_count": 54,
     "metadata": {},
     "output_type": "execute_result"
    }
   ],
   "source": [
    "xgb_pipe.fit(X_train, y_train)"
   ]
  },
  {
   "cell_type": "code",
   "execution_count": 55,
   "metadata": {},
   "outputs": [
    {
     "name": "stdout",
     "output_type": "stream",
     "text": [
      "XGB: MAE\n",
      "-----------------------------------\n",
      "cl_error :  0.03173974009600614\n",
      "cd_error :  0.002732559922681943\n",
      "total_error :  0.01723615000934404\n",
      "total_error_train_set  :  0.013695038753838889\n",
      "-----------------------------------\n"
     ]
    }
   ],
   "source": [
    "preds_xgb = xgb_pipe.predict(X_test)\n",
    "\n",
    "print('XGB: MAE')\n",
    "print('-----------------------------------')\n",
    "\n",
    "print('cl_error : ',mean_absolute_error(y_test['CL'], preds_xgb[:,0]))\n",
    "print('cd_error : ',mean_absolute_error(y_test['CD'], preds_xgb[:,1]))\n",
    "print('total_error : ',mean_absolute_error(y_test, preds_xgb))\n",
    "print('total_error_train_set  : ',mean_absolute_error(y_train, xgb_pipe.predict(X_train)))\n",
    "print('-----------------------------------')"
   ]
  },
  {
   "cell_type": "markdown",
   "metadata": {},
   "source": [
    "## Tuned XGBRegressor has a bit high MAE than the default model. Also, it has high no. of trees. So it is optimal to use the default model"
   ]
  },
  {
   "cell_type": "code",
   "execution_count": 63,
   "metadata": {},
   "outputs": [],
   "source": [
    "filename = '..\\\\Models\\\\final_xgb_model.sav'\n",
    "pickle.dump(xgb_pipe_def, open(filename, 'wb'))"
   ]
  },
  {
   "cell_type": "code",
   "execution_count": null,
   "metadata": {},
   "outputs": [],
   "source": []
  }
 ],
 "metadata": {
  "interpreter": {
   "hash": "96eb50e1d44aed467dc8f759cb08c32fbfa9babcf79c554e2d0e5feb04653a10"
  },
  "kernelspec": {
   "display_name": "Python 3.8.8 64-bit ('base': conda)",
   "name": "python3"
  },
  "language_info": {
   "codemirror_mode": {
    "name": "ipython",
    "version": 3
   },
   "file_extension": ".py",
   "mimetype": "text/x-python",
   "name": "python",
   "nbconvert_exporter": "python",
   "pygments_lexer": "ipython3",
   "version": "3.8.8"
  },
  "orig_nbformat": 4
 },
 "nbformat": 4,
 "nbformat_minor": 2
}
